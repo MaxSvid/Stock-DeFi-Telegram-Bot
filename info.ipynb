{
 "cells": [
  {
   "cell_type": "markdown",
   "id": "2949a46c",
   "metadata": {},
   "source": [
    "- Aiogram documentation ---> https://docs.aiogram.dev/en/v3.20.0.post0/"
   ]
  },
  {
   "cell_type": "raw",
   "id": "4d4507c3",
   "metadata": {
    "vscode": {
     "languageId": "raw"
    }
   },
   "source": [
    "- docker-compose.yml dpage/pgadmin4 code\n",
    "  pgadmin:\n",
    "    container_name: pgadmin_db_bot \n",
    "    image: dpage/pgadmin4:latest\n",
    "    env_file:\n",
    "      - .env\n",
    "    volumes:\n",
    "      - ./pgadmin:/var/lib/pgadmin\n",
    "    ports:\n",
    "      - \"${PGADMIN_PORT_HOST}:80\"\n",
    "    restart: unless-stopped"
   ]
  }
 ],
 "metadata": {
  "language_info": {
   "name": "python"
  }
 },
 "nbformat": 4,
 "nbformat_minor": 5
}
