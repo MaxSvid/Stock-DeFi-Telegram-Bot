{
 "cells": [
  {
   "cell_type": "markdown",
   "id": "2949a46c",
   "metadata": {},
   "source": [
    "- Aiogram documentation ---> https://docs.aiogram.dev/en/v3.20.0.post0/"
   ]
  },
  {
   "cell_type": "markdown",
   "id": "f192bb61",
   "metadata": {},
   "source": [
    "## Docker Compose code to set up pgadmin in case below..."
   ]
  },
  {
   "cell_type": "code",
   "execution_count": null,
   "id": "08b6a953",
   "metadata": {},
   "outputs": [],
   "source": [
    "# pgadmin:\n",
    "#   container_name: pgadmin_db_bot\n",
    "#   image: dpage/pgadmin4:latest\n",
    "#   env_file:\n",
    "#     - .env\n",
    "#   volumes:\n",
    "#     - ./pgadmin:/var/lib/pgadmin\n",
    "#   ports:\n",
    "#     - \"${PGADMIN_PORT_HOST}:80\"\n",
    "#   restart: unless-stopped"
   ]
  },
  {
   "cell_type": "markdown",
   "id": "32250691",
   "metadata": {},
   "source": [
    "- If ./pgadmin directory doesn't exist, Docker will create it. This volume ensures pgAdmin settings/data persist.\n",
    "\n",
    "- You can uncomment this section in your docker-compose.yml to enable pgAdmin."
   ]
  }
 ],
 "metadata": {
  "kernelspec": {
   "display_name": "base",
   "language": "python",
   "name": "python3"
  },
  "language_info": {
   "codemirror_mode": {
    "name": "ipython",
    "version": 3
   },
   "file_extension": ".py",
   "mimetype": "text/x-python",
   "name": "python",
   "nbconvert_exporter": "python",
   "pygments_lexer": "ipython3",
   "version": "3.12.7"
  }
 },
 "nbformat": 4,
 "nbformat_minor": 5
}
