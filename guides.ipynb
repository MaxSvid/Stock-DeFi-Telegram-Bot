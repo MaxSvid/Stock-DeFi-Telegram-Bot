{
 "cells": [
  {
   "cell_type": "markdown",
   "id": "36be0c77",
   "metadata": {},
   "source": [
    "## Guides and Documentation for Bot"
   ]
  },
  {
   "cell_type": "markdown",
   "id": "2949a46c",
   "metadata": {},
   "source": [
    "- Aiogram documentation ---> https://docs.aiogram.dev/en/v3.20.0.post0/"
   ]
  },
  {
   "cell_type": "markdown",
   "id": "f192bb61",
   "metadata": {},
   "source": [
    "## Docker Compose code to set up pgadmin in case below..."
   ]
  },
  {
   "cell_type": "markdown",
   "id": "32250691",
   "metadata": {},
   "source": [
    "- If ./pgadmin directory doesn't exist, Docker will create it. This volume ensures pgAdmin settings/data persist.\n",
    "\n",
    "- You can uncomment this section in your docker-compose.yml to enable pgAdmin."
   ]
  },
  {
   "cell_type": "markdown",
   "id": "c24e83ef",
   "metadata": {},
   "source": [
    "## Make sure `.env` file contains these variables for pgadmin:\n",
    "\n",
    "```shell\n",
    "PGADMIN_DEFAULT_EMAIL=your@email.com\n",
    "PGADMIN_DEFAULT_PASSWORD=yourpassword\n",
    "PGADMIN_PORT_HOST=5050  # or any available port on your host\n",
    "```"
   ]
  },
  {
   "cell_type": "markdown",
   "id": "ea8daf38",
   "metadata": {},
   "source": [
    "## Guide to help create Docker-Compose in Terminal\n",
    "\n",
    "`docker compose up -d` a command that starts your Docker application and all services in the YAML file.It can perform a number of tasks, including: building docker images, creating networks and volumes,starting containers and linking containers together.\n",
    "\n",
    "`docker ps` only shows running containers by default (progress status). To see all containers, use the --all (or -a ) flag.\n",
    "\n",
    "`docker compose down` is used to stop and remove containers, networks, volumes, and images that were created by docker-compose up.\n",
    "\n",
    "`docker start <container_name_or_id>` to start again a container."
   ]
  },
  {
   "cell_type": "markdown",
   "id": "99232602",
   "metadata": {},
   "source": [
    "## Guide for connecting psql with Docker from terminal \n",
    "\n",
    "psql tutorial and cheat sheet ---> https://tomcam.github.io/postgres/\n",
    "\n",
    "**`docker-compose exec postgres psql -U POSTGRES_USER -d POSTGRES_DB`** \n",
    "- postgres - name of service in .yml file.\n",
    "- USER and DB info from .env file that connects with docker-compose.yml to run database from docker.\n",
    "\n",
    "`\\l` shows list of databases\n",
    "\n",
    "`\\dt` shows list of available tables from database we are connected to.\n",
    "\n",
    "`psql -d database -U user -W`  connects to a database under a specific user."
   ]
  },
  {
   "cell_type": "markdown",
   "id": "9c7f54b1",
   "metadata": {},
   "source": [
    "## Folder `bot/` Structure\n",
    "\n",
    "`database/`  contains files related to db interaction \n",
    "Example:\n",
    "- `db.py` handles all db queries and connections\n",
    "\n",
    "`__init__.py` marks the folder as python package, collections of modules for organizing code into modules and packages for relative imports to work clean \n",
    "\n",
    "`bot.py` main setup of the bot to be used across whole application at the moment\n",
    "\n",
    "File initializes:\n",
    "- the Bot and Dispatcher\n",
    "- anything global like filters, logging\n",
    "\n",
    "`config.py` handles environment configuration using `.env` variables\n",
    "- using classe/objects types for env settings and db\n",
    "\n",
    "`handlers.py` bot logic for user interaction, reacts to user commands and messages \n",
    "\n",
    "`keyboards.py` controls the buttons the users going to click "
   ]
  }
 ],
 "metadata": {
  "kernelspec": {
   "display_name": "base",
   "language": "python",
   "name": "python3"
  },
  "language_info": {
   "codemirror_mode": {
    "name": "ipython",
    "version": 3
   },
   "file_extension": ".py",
   "mimetype": "text/x-python",
   "name": "python",
   "nbconvert_exporter": "python",
   "pygments_lexer": "ipython3",
   "version": "3.12.7"
  }
 },
 "nbformat": 4,
 "nbformat_minor": 5
}
