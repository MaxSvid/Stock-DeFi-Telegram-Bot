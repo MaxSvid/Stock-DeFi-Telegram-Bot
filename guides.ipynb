{
 "cells": [
  {
   "cell_type": "markdown",
   "id": "36be0c77",
   "metadata": {},
   "source": [
    "## Guides and Documentation for Bot"
   ]
  },
  {
   "cell_type": "markdown",
   "id": "2949a46c",
   "metadata": {},
   "source": [
    "- Aiogram documentation ---> https://docs.aiogram.dev/en/v3.20.0.post0/"
   ]
  },
  {
   "cell_type": "markdown",
   "id": "f192bb61",
   "metadata": {},
   "source": [
    "## Docker Compose code to set up pgadmin in case below..."
   ]
  },
  {
   "cell_type": "code",
   "execution_count": null,
   "id": "08b6a953",
   "metadata": {},
   "outputs": [],
   "source": [
    "# pgadmin:\n",
    "#   container_name: pgadmin_db_bot\n",
    "#   image: dpage/pgadmin4:latest\n",
    "#   env_file:\n",
    "#     - .env\n",
    "#   volumes:\n",
    "#     - ./pgadmin:/var/lib/pgadmin\n",
    "#   ports:\n",
    "#     - \"${PGADMIN_PORT_HOST}:80\"\n",
    "#   restart: unless-stopped"
   ]
  },
  {
   "cell_type": "markdown",
   "id": "32250691",
   "metadata": {},
   "source": [
    "- If ./pgadmin directory doesn't exist, Docker will create it. This volume ensures pgAdmin settings/data persist.\n",
    "\n",
    "- You can uncomment this section in your docker-compose.yml to enable pgAdmin."
   ]
  },
  {
   "cell_type": "markdown",
   "id": "ea8daf38",
   "metadata": {},
   "source": [
    "## Guide to help create Docker-Compose in Terminal\n",
    "\n",
    "**`docker compose up -d`** a command that starts your Docker application and all services in the YAML file.It can perform a number of tasks, including: building docker images, creating networks and volumes,starting containers and linking containers together.\n",
    "\n",
    "**`docker ps`** only shows running containers by default (progress status). To see all containers, use the --all (or -a ) flag.\n",
    "\n",
    "**`docker compose down`** is used to stop and remove containers, networks, volumes, and images that were created by docker-compose up.\n",
    "\n",
    "**`docker start <container_name_or_id>`** to start again a container."
   ]
  },
  {
   "cell_type": "markdown",
   "id": "99232602",
   "metadata": {},
   "source": [
    "## Guide for connecting psql with Docker from terminal \n",
    "\n",
    "psql tutorial and cheat sheet ---> https://tomcam.github.io/postgres/\n",
    "\n",
    "**`docker-compose exec postgres psql -U POSTGRES_USER -d POSTGRES_DB`** \n",
    "- postgres - name of service in .yml file.\n",
    "- USER and DB info from .env file that connects with docker-compose.yml to run database from docker.\n",
    "\n",
    "**`\\l`** shows list of databases\n",
    "\n",
    "**`\\dt`** shows list of available tables from database we are connected to.\n",
    "\n",
    "**`psql -d database -U user -W`**  connects to a database under a specific user."
   ]
  }
 ],
 "metadata": {
  "kernelspec": {
   "display_name": "base",
   "language": "python",
   "name": "python3"
  },
  "language_info": {
   "codemirror_mode": {
    "name": "ipython",
    "version": 3
   },
   "file_extension": ".py",
   "mimetype": "text/x-python",
   "name": "python",
   "nbconvert_exporter": "python",
   "pygments_lexer": "ipython3",
   "version": "3.12.7"
  }
 },
 "nbformat": 4,
 "nbformat_minor": 5
}
